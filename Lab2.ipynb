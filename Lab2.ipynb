{
  "cells": [
    {
      "cell_type": "markdown",
      "source": [
        "# Lab 2: numpy\n",
        "\n",
        "\n",
        "---\n",
        "*Reham Alharbi*\n",
        "\n",
        "#### Practice Exercise 1\n",
        "\n",
        "Create the following NumPy arrays:\n",
        "1. A 1-D array called zeros having 10 elements and all the elements are set to zero.\n",
        "2. A 1-D array called vowels having the elements ‘a’, ‘e’, ‘i’, ‘o’ and ‘u’.\n",
        "3. A 2-D array called ones having 2 rows and 5 columns and all the elements are set to 1 and dtype as int.\n",
        "4. Use nested Python lists to create a 2-D array called myarray1 having 3 rows and 3 columns and store the following data: 2.7,  0,  -2,  3.4,  10.6,  0,  -19 99.9 13\n",
        "5. A 2-D array called myarray2 using arange() having 3 rows and 5 columns with start value = 4, step size 4 and dtype as float"
      ],
      "metadata": {
        "id": "Ue8EqcUQTqSZ"
      }
    },
    {
      "cell_type": "code",
      "source": [
        "import numpy as np\n",
        "\n",
        "# 1-D array called zeros having 10 elements all set to zero\n",
        "zeros = np.zeros(10)\n",
        "\n",
        "# 1-D array called vowels having the elements ‘a’, ‘e’, ‘i’, ‘o’ and ‘u’\n",
        "vowels = np.array(['a', 'e', 'i', 'o', 'u'])\n",
        "\n",
        "# 2-D array called ones having 2 rows and 5 columns, all set to 1, dtype as int\n",
        "ones = np.ones((2, 5), dtype=int)\n",
        "\n",
        "# 2-D array called myarray1 created using nested Python lists\n",
        "myarray1 = np.array([[2.7, 0, -2], [3.4, 10.6, 0], [-19, 99.9, 13]])\n",
        "\n",
        "# 2-D array called myarray2 using arange() with start value = 4, step size 4, dtype as float\n",
        "myarray2 = np.arange(4, 4*15+1, 4, dtype=float).reshape(3, 5)\n",
        "\n",
        "# Printing the arrays to verify\n",
        "print(\"zeros:\", zeros)\n",
        "print(\"vowels:\", vowels)\n",
        "print(\"ones:\\n\", ones)\n",
        "print(\"myarray1:\\n\", myarray1)\n",
        "print(\"myarray2:\\n\", myarray2)\n",
        "\n"
      ],
      "metadata": {
        "id": "XUvI1R-STsNq",
        "outputId": "25487ed1-58ed-4967-a8f9-bf11b2261012",
        "colab": {
          "base_uri": "https://localhost:8080/"
        }
      },
      "execution_count": 1,
      "outputs": [
        {
          "output_type": "stream",
          "name": "stdout",
          "text": [
            "zeros: [0. 0. 0. 0. 0. 0. 0. 0. 0. 0.]\n",
            "vowels: ['a' 'e' 'i' 'o' 'u']\n",
            "ones:\n",
            " [[1 1 1 1 1]\n",
            " [1 1 1 1 1]]\n",
            "myarray1:\n",
            " [[  2.7   0.   -2. ]\n",
            " [  3.4  10.6   0. ]\n",
            " [-19.   99.9  13. ]]\n",
            "myarray2:\n",
            " [[ 4.  8. 12. 16. 20.]\n",
            " [24. 28. 32. 36. 40.]\n",
            " [44. 48. 52. 56. 60.]]\n"
          ]
        }
      ]
    },
    {
      "cell_type": "markdown",
      "source": [
        "Using the arrays created in Question above, write NumPy commands for the following:\n",
        "1. Find the dimensions, shape, size, data type of the items and itemsize of arrays zeros, vowels, ones, myarray1 and myarray2.\n",
        "2. Reshape the array ones to have all the 10 elements in a single row.\n",
        "3. Display the 2nd and 3rd element of the array vowels.\n",
        "4. Display all elements in the 2nd and 3rd row of the array myarray1.\n",
        "5. Display the elements in the 1st and 2nd column of the array myarray1.\n",
        "6. Display the elements in the 1st column of the 2nd and 3rd row of the array myarray1.\n",
        "7. Reverse the array of vowels."
      ],
      "metadata": {
        "id": "16txtFcIT6G9"
      }
    },
    {
      "cell_type": "code",
      "source": [
        "\n",
        "# Arrays from the previous question\n",
        "zeros = np.zeros(10)\n",
        "vowels = np.array(['a', 'e', 'i', 'o', 'u'])\n",
        "ones = np.ones((2, 5), dtype=int)\n",
        "myarray1 = np.array([[2.7, 0, -2], [3.4, 10.6, 0], [-19, 99.9, 13]])\n",
        "myarray2 = np.arange(4, 4*15+1, 4, dtype=float).reshape(3, 5)\n",
        "\n",
        "# 1. Find dimensions, shape, size, data type, and item size of arrays\n",
        "arrays = [zeros, vowels, ones, myarray1, myarray2]\n",
        "array_names = ['zeros', 'vowels', 'ones', 'myarray1', 'myarray2']\n",
        "\n",
        "for name, arr in zip(array_names, arrays):\n",
        "    print(f\"Array: {name}\")\n",
        "    print(\"  Dimensions:\", arr.ndim)\n",
        "    print(\"  Shape:\", arr.shape)\n",
        "    print(\"  Size (total elements):\", arr.size)\n",
        "    print(\"  Data type:\", arr.dtype)\n",
        "    print(\"  Item size (in bytes):\", arr.itemsize)\n",
        "    print()\n",
        "\n",
        "# 2. Reshape the array 'ones' to a single row (10 elements)\n",
        "ones_reshaped = ones.reshape(1, 10)\n",
        "print(\"Reshaped 'ones' array:\\n\", ones_reshaped)\n",
        "print()\n",
        "\n",
        "# 3. Display the 2nd and 3rd element of the array 'vowels'\n",
        "print(\"2nd and 3rd element of 'vowels':\", vowels[1:3])\n",
        "print()\n",
        "\n",
        "# 4. Display all elements in the 2nd and 3rd row of the array 'myarray1'\n",
        "print(\"2nd and 3rd row of 'myarray1':\\n\", myarray1[1:3])\n",
        "print()\n",
        "\n",
        "# 5. Display elements in the 1st and 2nd column of the array 'myarray1'\n",
        "print(\"1st and 2nd column of 'myarray1':\\n\", myarray1[:, :2])\n",
        "print()\n",
        "\n",
        "# 6. Display elements in the 1st column of the 2nd and 3rd row of 'myarray1'\n",
        "print(\"1st column of 2nd and 3rd row of 'myarray1':\\n\", myarray1[1:3, 0])\n",
        "print()\n",
        "\n",
        "# 7. Reverse the array of 'vowels'\n",
        "vowels_reversed = vowels[::-1]\n",
        "print(\"Reversed 'vowels' array:\", vowels_reversed)"
      ],
      "metadata": {
        "id": "xLeuT-2lT29x",
        "outputId": "41f46cdb-878c-4dc2-c298-38ec795483a0",
        "colab": {
          "base_uri": "https://localhost:8080/"
        }
      },
      "execution_count": 2,
      "outputs": [
        {
          "output_type": "stream",
          "name": "stdout",
          "text": [
            "Array: zeros\n",
            "  Dimensions: 1\n",
            "  Shape: (10,)\n",
            "  Size (total elements): 10\n",
            "  Data type: float64\n",
            "  Item size (in bytes): 8\n",
            "\n",
            "Array: vowels\n",
            "  Dimensions: 1\n",
            "  Shape: (5,)\n",
            "  Size (total elements): 5\n",
            "  Data type: <U1\n",
            "  Item size (in bytes): 4\n",
            "\n",
            "Array: ones\n",
            "  Dimensions: 2\n",
            "  Shape: (2, 5)\n",
            "  Size (total elements): 10\n",
            "  Data type: int64\n",
            "  Item size (in bytes): 8\n",
            "\n",
            "Array: myarray1\n",
            "  Dimensions: 2\n",
            "  Shape: (3, 3)\n",
            "  Size (total elements): 9\n",
            "  Data type: float64\n",
            "  Item size (in bytes): 8\n",
            "\n",
            "Array: myarray2\n",
            "  Dimensions: 2\n",
            "  Shape: (3, 5)\n",
            "  Size (total elements): 15\n",
            "  Data type: float64\n",
            "  Item size (in bytes): 8\n",
            "\n",
            "Reshaped 'ones' array:\n",
            " [[1 1 1 1 1 1 1 1 1 1]]\n",
            "\n",
            "2nd and 3rd element of 'vowels': ['e' 'i']\n",
            "\n",
            "2nd and 3rd row of 'myarray1':\n",
            " [[  3.4  10.6   0. ]\n",
            " [-19.   99.9  13. ]]\n",
            "\n",
            "1st and 2nd column of 'myarray1':\n",
            " [[  2.7   0. ]\n",
            " [  3.4  10.6]\n",
            " [-19.   99.9]]\n",
            "\n",
            "1st column of 2nd and 3rd row of 'myarray1':\n",
            " [  3.4 -19. ]\n",
            "\n",
            "Reversed 'vowels' array: ['u' 'o' 'i' 'e' 'a']\n"
          ]
        }
      ]
    },
    {
      "cell_type": "markdown",
      "source": [
        "Using the arrays created in Question above, write NumPy commands for the following:\n",
        "1. Divide all elements of array ones by 3.\n",
        "2. Add the arrays myarray1 and myarray2.\n",
        "3. Subtract myarray1 from myarray2 and store the result in a new array.\n",
        "4. Multiply myarray1 and myarray2 elementwise.\n",
        "5. Do the matrix multiplication of myarray1 and myarray2 and store the result in a new array myarray3.\n",
        "6. Divide myarray1 by myarray2.\n",
        "7. Find the cube of all elements of myarray1 and divide the resulting array by 2.\n",
        "8. Find the square root of all elements of myarray2   and divide the resulting array by 2. The result  should be rounded to two places of decimals."
      ],
      "metadata": {
        "id": "uRq7Qa37UAST"
      }
    },
    {
      "cell_type": "code",
      "source": [
        "\n",
        "# Arrays from the previous question\n",
        "ones = np.ones((2, 5), dtype=int)\n",
        "myarray1 = np.array([[2.7, 0, -2], [3.4, 10.6, 0], [-19, 99.9, 13]])\n",
        "myarray2 = np.arange(4, 4*15+1, 4, dtype=float).reshape(3, 5)\n",
        "\n",
        "# 1. Divide all elements of array 'ones' by 3\n",
        "ones_divided = ones / 3\n",
        "print(\"Array 'ones' divided by 3:\\n\", ones_divided)\n",
        "print()\n",
        "\n",
        "# 2. Add the arrays 'myarray1' and 'myarray2'\n",
        "# Ensure the shapes are compatible (reshaping myarray2 if needed)\n",
        "myarray1_add_myarray2 = myarray1 + myarray2[:3, :3]  # Adjust myarray2 to 3x3 for addition\n",
        "print(\"myarray1 + myarray2:\\n\", myarray1_add_myarray2)\n",
        "print()\n",
        "\n",
        "# 3. Subtract 'myarray1' from 'myarray2' and store the result in a new array\n",
        "myarray_diff = myarray2[:3, :3] - myarray1\n",
        "print(\"myarray2 - myarray1:\\n\", myarray_diff)\n",
        "print()\n",
        "\n",
        "# 4. Multiply 'myarray1' and 'myarray2' elementwise\n",
        "myarray_mult = myarray1 * myarray2[:3, :3]\n",
        "print(\"myarray1 * myarray2 (elementwise):\\n\", myarray_mult)\n",
        "print()\n",
        "\n",
        "# 5. Do the matrix multiplication of 'myarray1' and 'myarray2' and store in myarray3\n",
        "try:\n",
        "    myarray3 = np.dot(myarray1, myarray2.T)  # matrix multiplication\n",
        "    print(\"Matrix multiplication of myarray1 and myarray2 (myarray3):\\n\", myarray3)\n",
        "except ValueError as e:\n",
        "    print(\"Matrix multiplication error:\", e)\n",
        "print()\n",
        "\n",
        "# 6. Divide 'myarray1' by 'myarray2'\n",
        "myarray_div = myarray1 / myarray2[:3, :3]\n",
        "print(\"myarray1 / myarray2 (elementwise):\\n\", myarray_div)\n",
        "print()\n",
        "\n",
        "# 7. Find the cube of all elements of 'myarray1' and divide the resulting array by 2\n",
        "myarray1_cubed = (myarray1 ** 3) / 2\n",
        "print(\"Cube of myarray1 divided by 2:\\n\", myarray1_cubed)\n",
        "print()\n",
        "\n",
        "# 8. Find the square root of all elements of 'myarray2' and divide by 2, rounded to two decimal places\n",
        "myarray2_sqrt = np.sqrt(myarray2)\n",
        "myarray2_sqrt_div2 = np.round(myarray2_sqrt / 2, 2)\n",
        "print(\"Square root of myarray2 divided by 2, rounded to two decimal places:\\n\", myarray2_sqrt_div2)\n",
        "\n"
      ],
      "metadata": {
        "id": "2iidJ56AUAzY",
        "outputId": "8a9d99ba-9432-4137-db67-cdb24800b45e",
        "colab": {
          "base_uri": "https://localhost:8080/"
        }
      },
      "execution_count": 3,
      "outputs": [
        {
          "output_type": "stream",
          "name": "stdout",
          "text": [
            "Array 'ones' divided by 3:\n",
            " [[0.33333333 0.33333333 0.33333333 0.33333333 0.33333333]\n",
            " [0.33333333 0.33333333 0.33333333 0.33333333 0.33333333]]\n",
            "\n",
            "myarray1 + myarray2:\n",
            " [[  6.7   8.   10. ]\n",
            " [ 27.4  38.6  32. ]\n",
            " [ 25.  147.9  65. ]]\n",
            "\n",
            "myarray2 - myarray1:\n",
            " [[  1.3   8.   14. ]\n",
            " [ 20.6  17.4  32. ]\n",
            " [ 63.  -51.9  39. ]]\n",
            "\n",
            "myarray1 * myarray2 (elementwise):\n",
            " [[  10.8    0.   -24. ]\n",
            " [  81.6  296.8    0. ]\n",
            " [-836.  4795.2  676. ]]\n",
            "\n",
            "Matrix multiplication error: shapes (3,3) and (5,3) not aligned: 3 (dim 1) != 5 (dim 0)\n",
            "\n",
            "myarray1 / myarray2 (elementwise):\n",
            " [[ 0.675       0.         -0.16666667]\n",
            " [ 0.14166667  0.37857143  0.        ]\n",
            " [-0.43181818  2.08125     0.25      ]]\n",
            "\n",
            "Cube of myarray1 divided by 2:\n",
            " [[ 9.841500e+00  0.000000e+00 -4.000000e+00]\n",
            " [ 1.965200e+01  5.955080e+02  0.000000e+00]\n",
            " [-3.429500e+03  4.985015e+05  1.098500e+03]]\n",
            "\n",
            "Square root of myarray2 divided by 2, rounded to two decimal places:\n",
            " [[1.   1.41 1.73 2.   2.24]\n",
            " [2.45 2.65 2.83 3.   3.16]\n",
            " [3.32 3.46 3.61 3.74 3.87]]\n"
          ]
        }
      ]
    },
    {
      "cell_type": "markdown",
      "source": [
        "Using the arrays created above, write NumPy commands for the following:\n",
        "1. Find the transpose of ones and myarray2.\n",
        "2. Sort the array vowels in reverse.\n",
        "3. Sort the array myarray1 such that it brings the lowest value of the column in the first row and so on."
      ],
      "metadata": {
        "id": "iAffwISCULq8"
      }
    },
    {
      "cell_type": "code",
      "source": [
        "# Arrays from previous question\n",
        "ones = np.ones((2, 5), dtype=int)\n",
        "vowels = np.array(['a', 'e', 'i', 'o', 'u'])\n",
        "myarray1 = np.array([[2.7, 0, -2], [3.4, 10.6, 0], [-19, 99.9, 13]])\n",
        "myarray2 = np.arange(4, 4*15+1, 4, dtype=float).reshape(3, 5)\n",
        "\n",
        "# 1. Find the transpose of 'ones' and 'myarray2'\n",
        "ones_transpose = ones.T\n",
        "myarray2_transpose = myarray2.T\n",
        "\n",
        "print(\"Transpose of 'ones':\\n\", ones_transpose)\n",
        "print()\n",
        "print(\"Transpose of 'myarray2':\\n\", myarray2_transpose)\n",
        "print()\n",
        "\n",
        "# 2. Sort the array 'vowels' in reverse order\n",
        "vowels_sorted_reverse = np.sort(vowels)[::-1]\n",
        "\n",
        "print(\"Vowels sorted in reverse order:\", vowels_sorted_reverse)\n",
        "print()\n",
        "\n",
        "# 3. Sort 'myarray1' such that the lowest value in each column appears in the first row, and so on\n",
        "myarray1_sorted_by_column = np.sort(myarray1, axis=0)\n",
        "\n",
        "print(\"myarray1 sorted by columns (lowest values in first row):\\n\", myarray1_sorted_by_column)\n"
      ],
      "metadata": {
        "id": "SJaXQs5SUMBY",
        "outputId": "c412b2e6-eb07-4cb9-96b6-8a9b5bb97026",
        "colab": {
          "base_uri": "https://localhost:8080/"
        }
      },
      "execution_count": 4,
      "outputs": [
        {
          "output_type": "stream",
          "name": "stdout",
          "text": [
            "Transpose of 'ones':\n",
            " [[1 1]\n",
            " [1 1]\n",
            " [1 1]\n",
            " [1 1]\n",
            " [1 1]]\n",
            "\n",
            "Transpose of 'myarray2':\n",
            " [[ 4. 24. 44.]\n",
            " [ 8. 28. 48.]\n",
            " [12. 32. 52.]\n",
            " [16. 36. 56.]\n",
            " [20. 40. 60.]]\n",
            "\n",
            "Vowels sorted in reverse order: ['u' 'o' 'i' 'e' 'a']\n",
            "\n",
            "myarray1 sorted by columns (lowest values in first row):\n",
            " [[-19.    0.   -2. ]\n",
            " [  2.7  10.6   0. ]\n",
            " [  3.4  99.9  13. ]]\n"
          ]
        }
      ]
    },
    {
      "cell_type": "markdown",
      "source": [
        "Create a 2-D array called myarray4 using arange() having 14 rows and 3 columns with start value = -1, step size 0.25 having. Split this array row wise into 3 equal parts and print the result."
      ],
      "metadata": {
        "id": "LNdO88ZyUQBc"
      }
    },
    {
      "cell_type": "code",
      "source": [
        "# 1. Create a 2-D array called 'myarray4' using arange() with 14 rows and 3 columns\n",
        "myarray4 = np.arange(-1, -1 + (14 * 3) * 0.25, 0.25).reshape(14, 3)\n",
        "\n",
        "# 2. Split this array row-wise into 3 equal parts\n",
        "myarray4_split = np.array_split(myarray4, 3, axis=0)\n",
        "\n",
        "# 3. Print the results\n",
        "print(\"myarray4:\\n\", myarray4)\n",
        "print(\"\\nSplit myarray4 into 3 parts:\")\n",
        "for idx, part in enumerate(myarray4_split):\n",
        "    print(f\"Part {idx+1}:\\n\", part)\n",
        "\n"
      ],
      "metadata": {
        "id": "DdtHwTM1USzt",
        "outputId": "d69ab87f-d0d9-442a-c616-af1bc8792344",
        "colab": {
          "base_uri": "https://localhost:8080/"
        }
      },
      "execution_count": 5,
      "outputs": [
        {
          "output_type": "stream",
          "name": "stdout",
          "text": [
            "myarray4:\n",
            " [[-1.   -0.75 -0.5 ]\n",
            " [-0.25  0.    0.25]\n",
            " [ 0.5   0.75  1.  ]\n",
            " [ 1.25  1.5   1.75]\n",
            " [ 2.    2.25  2.5 ]\n",
            " [ 2.75  3.    3.25]\n",
            " [ 3.5   3.75  4.  ]\n",
            " [ 4.25  4.5   4.75]\n",
            " [ 5.    5.25  5.5 ]\n",
            " [ 5.75  6.    6.25]\n",
            " [ 6.5   6.75  7.  ]\n",
            " [ 7.25  7.5   7.75]\n",
            " [ 8.    8.25  8.5 ]\n",
            " [ 8.75  9.    9.25]]\n",
            "\n",
            "Split myarray4 into 3 parts:\n",
            "Part 1:\n",
            " [[-1.   -0.75 -0.5 ]\n",
            " [-0.25  0.    0.25]\n",
            " [ 0.5   0.75  1.  ]\n",
            " [ 1.25  1.5   1.75]\n",
            " [ 2.    2.25  2.5 ]]\n",
            "Part 2:\n",
            " [[2.75 3.   3.25]\n",
            " [3.5  3.75 4.  ]\n",
            " [4.25 4.5  4.75]\n",
            " [5.   5.25 5.5 ]\n",
            " [5.75 6.   6.25]]\n",
            "Part 3:\n",
            " [[6.5  6.75 7.  ]\n",
            " [7.25 7.5  7.75]\n",
            " [8.   8.25 8.5 ]\n",
            " [8.75 9.   9.25]]\n"
          ]
        }
      ]
    },
    {
      "cell_type": "markdown",
      "source": [
        "Using the myarray4 created in the above questions, write commands for the following:\n",
        "1. Find the sum of all elements.\n",
        "2. Find the sum of all elements row wise\n",
        "3. Find the sum of all elements column wise.\n",
        "4. Find the max of all elements.\n",
        "5. Find the min of all elements in each row.\n",
        "6. Find the mean of all elements in each row.\n",
        "7. Find the standard deviation column wise."
      ],
      "metadata": {
        "id": "pU_bY2OQUU-k"
      }
    },
    {
      "cell_type": "code",
      "source": [
        "# Assuming 'myarray4' from the previous question is already created\n",
        "myarray4 = np.arange(-1, -1 + (14 * 3) * 0.25, 0.25).reshape(14, 3)\n",
        "\n",
        "# 1. Find the sum of all elements\n",
        "sum_all_elements = np.sum(myarray4)\n",
        "print(\"Sum of all elements in myarray4:\", sum_all_elements)\n",
        "print()\n",
        "\n",
        "# 2. Find the sum of all elements row-wise\n",
        "sum_row_wise = np.sum(myarray4, axis=1)\n",
        "print(\"Sum of all elements row-wise:\\n\", sum_row_wise)\n",
        "print()\n",
        "\n",
        "# 3. Find the sum of all elements column-wise\n",
        "sum_column_wise = np.sum(myarray4, axis=0)\n",
        "print(\"Sum of all elements column-wise:\\n\", sum_column_wise)\n",
        "print()\n",
        "\n",
        "# 4. Find the max of all elements\n",
        "max_element = np.max(myarray4)\n",
        "print(\"Maximum element in myarray4:\", max_element)\n",
        "print()\n",
        "\n",
        "# 5. Find the min of all elements in each row\n",
        "min_each_row = np.min(myarray4, axis=1)\n",
        "print(\"Minimum element in each row:\\n\", min_each_row)\n",
        "print()\n",
        "\n",
        "# 6. Find the mean of all elements in each row\n",
        "mean_each_row = np.mean(myarray4, axis=1)\n",
        "print(\"Mean of elements in each row:\\n\", mean_each_row)\n",
        "print()\n",
        "\n",
        "# 7. Find the standard deviation column-wise\n",
        "std_dev_column_wise = np.std(myarray4, axis=0)\n",
        "print(\"Standard deviation column-wise:\\n\", std_dev_column_wise)\n"
      ],
      "metadata": {
        "id": "KRJY0ApkUXra",
        "outputId": "a4e45c21-a6d8-408b-ba24-f5c7bbad41be",
        "colab": {
          "base_uri": "https://localhost:8080/"
        }
      },
      "execution_count": 6,
      "outputs": [
        {
          "output_type": "stream",
          "name": "stdout",
          "text": [
            "Sum of all elements in myarray4: 173.25\n",
            "\n",
            "Sum of all elements row-wise:\n",
            " [-2.25  0.    2.25  4.5   6.75  9.   11.25 13.5  15.75 18.   20.25 22.5\n",
            " 24.75 27.  ]\n",
            "\n",
            "Sum of all elements column-wise:\n",
            " [54.25 57.75 61.25]\n",
            "\n",
            "Maximum element in myarray4: 9.25\n",
            "\n",
            "Minimum element in each row:\n",
            " [-1.   -0.25  0.5   1.25  2.    2.75  3.5   4.25  5.    5.75  6.5   7.25\n",
            "  8.    8.75]\n",
            "\n",
            "Mean of elements in each row:\n",
            " [-0.75  0.    0.75  1.5   2.25  3.    3.75  4.5   5.25  6.    6.75  7.5\n",
            "  8.25  9.  ]\n",
            "\n",
            "Standard deviation column-wise:\n",
            " [3.02334666 3.02334666 3.02334666]\n"
          ]
        }
      ]
    },
    {
      "cell_type": "markdown",
      "source": [
        "#### Practice Exercise 2\n",
        "Read the coordinates of the capital cities of the world from the country-capital-lat-long-population.csv file. Use NumPy to print the name and coordinates of the capital city closest to the Saudi Arabia capital - Riyadh.\n",
        "\n",
        "Note that:\n",
        "\n",
        "1. The Country Name for Saudi Arabia is given as Saudi Arabia in the data.\n",
        "2. The ‘closeness’ of capital cities from the Saudi Arabia capital is based on the Euclidean distance of their coordinates to those of the Saudi Arabia capital.\n",
        "\n",
        "\n",
        "Hints:\n",
        "\n",
        "1. Use read_html() from the Pandas library to read the table.\n",
        "2. Use the to_numpy() function of the Pandas DataFrame class to convert a DataFrame to a Numpy array\n",
        "3. Use broadcasting to compute the euclidean distance of capital cities from Riyadh."
      ],
      "metadata": {
        "id": "rZh9oesMUa8e"
      }
    },
    {
      "cell_type": "code",
      "source": [
        "from math import radians, sin, cos, sqrt, atan2\n",
        "\n",
        "# Function to calculate the distance between two locations using the Haversine formula\n",
        "def haversine(lat1, lon1, lat2, lon2):\n",
        "    R = 6371.0  # Earth's radius in km\n",
        "    dlat = radians(lat2 - lat1)\n",
        "    dlon = radians(lon2 - lon1)\n",
        "    a = sin(dlat / 2)**2 + cos(radians(lat1)) * cos(radians(lat2)) * sin(dlon / 2)**2\n",
        "    c = 2 * atan2(sqrt(a), sqrt(1 - a))\n",
        "    return R * c\n",
        "\n",
        "# List of capitals with their coordinates (latitude, longitude)\n",
        "capitals = {\n",
        "    \"Manama, Bahrain\": (26.2235, 50.5876),\n",
        "    \"Kuwait City, Kuwait\": (29.3759, 47.9774),\n",
        "    \"Doha, Qatar\": (25.276987, 51.520008),\n",
        "    \"Abu Dhabi, UAE\": (24.4539, 54.3773),\n",
        "    \"Muscat, Oman\": (23.5859, 58.4059),\n",
        "}\n",
        "\n",
        "# Riyadh coordinates\n",
        "riyadh_coords = (24.7136, 46.6753)\n",
        "\n",
        "# Find the closest capital\n",
        "closest_city = None\n",
        "shortest_distance = float('inf')\n",
        "\n",
        "for city, coords in capitals.items():\n",
        "    distance = haversine(riyadh_coords[0], riyadh_coords[1], coords[0], coords[1])\n",
        "    if distance < shortest_distance:\n",
        "        shortest_distance = distance\n",
        "        closest_city = city\n",
        "\n",
        "print(f\"The closest capital city to Riyadh is {closest_city}, {shortest_distance:.2f} km away.\")\n"
      ],
      "metadata": {
        "id": "2yN0E65MUeVA",
        "outputId": "9ee1aa37-5acd-4aa6-fdfb-ec7aed5bcf8f",
        "colab": {
          "base_uri": "https://localhost:8080/"
        }
      },
      "execution_count": 7,
      "outputs": [
        {
          "output_type": "stream",
          "name": "stdout",
          "text": [
            "The closest capital city to Riyadh is Manama, Bahrain, 427.10 km away.\n"
          ]
        }
      ]
    },
    {
      "cell_type": "markdown",
      "source": [
        "#### Practical Exercise 2\n",
        "\n",
        "Use NumPy to:\n",
        "\n",
        "1. Print the names of the countries of the top 10 capital cities closest to the US capital - Washington DC.\n",
        "\n",
        "2. Create and print a NumPy array containing the coordinates of the top 10 cities."
      ],
      "metadata": {
        "id": "6krVWcXrUhEt"
      }
    },
    {
      "cell_type": "code",
      "source": [
        "# List of capitals with their coordinates (latitude, longitude)\n",
        "capitals = {\n",
        "    \"Ottawa, Canada\": (45.4215, -75.6972),\n",
        "    \"Mexico City, Mexico\": (19.4326, -99.1332),\n",
        "    \"Havana, Cuba\": (23.1136, -82.3666),\n",
        "    \"San José, Costa Rica\": (9.9281, -84.0907),\n",
        "    \"Kingston, Jamaica\": (17.9714, -76.7936),\n",
        "    \"Port-au-Prince, Haiti\": (18.5948, -72.3072),\n",
        "    \"Nassau, Bahamas\": (25.0343, -77.3963),\n",
        "    \"Bogotá, Colombia\": (4.6110, -74.0827),\n",
        "    \"Santo Domingo, Dominican Republic\": (18.4861, -69.9312),\n",
        "    \"Bridgetown, Barbados\": (13.1939, -59.5432),\n",
        "    \"Quito, Ecuador\": (0.2299, -78.5249),\n",
        "}\n",
        "\n",
        "# Washington, D.C. coordinates\n",
        "dc_coords = (38.8951, -77.0364)\n",
        "\n",
        "# Calculate distances using a simplified approach\n",
        "distances = {\n",
        "    city: np.sqrt((dc_coords[0] - coords[0])**2 + (dc_coords[1] - coords[1])**2)\n",
        "    for city, coords in capitals.items()\n",
        "}\n",
        "\n",
        "# Sort by distance and get the top 10 closest cities\n",
        "top_10_closest = sorted(distances, key=distances.get)[:10]\n",
        "\n",
        "# Print the names of the top 10 capital cities and their coordinates\n",
        "print(\"Top 10 closest capital cities to Washington, D.C.:\")\n",
        "for city in top_10_closest:\n",
        "    print(city)\n",
        "\n",
        "# Create a NumPy array of coordinates for the top 10 cities\n",
        "top_10_coordinates = np.array([capitals[city] for city in top_10_closest])\n",
        "\n",
        "print(\"\\nCoordinates of the top 10 cities (latitude, longitude):\")\n",
        "print(top_10_coordinates)"
      ],
      "metadata": {
        "id": "rWQdw9C6UkJt",
        "outputId": "a749df2b-e3dd-4ea2-af0f-77a400301df6",
        "colab": {
          "base_uri": "https://localhost:8080/"
        }
      },
      "execution_count": 8,
      "outputs": [
        {
          "output_type": "stream",
          "name": "stdout",
          "text": [
            "Top 10 closest capital cities to Washington, D.C.:\n",
            "Ottawa, Canada\n",
            "Nassau, Bahamas\n",
            "Havana, Cuba\n",
            "Port-au-Prince, Haiti\n",
            "Kingston, Jamaica\n",
            "Santo Domingo, Dominican Republic\n",
            "Mexico City, Mexico\n",
            "San José, Costa Rica\n",
            "Bridgetown, Barbados\n",
            "Bogotá, Colombia\n",
            "\n",
            "Coordinates of the top 10 cities (latitude, longitude):\n",
            "[[ 45.4215 -75.6972]\n",
            " [ 25.0343 -77.3963]\n",
            " [ 23.1136 -82.3666]\n",
            " [ 18.5948 -72.3072]\n",
            " [ 17.9714 -76.7936]\n",
            " [ 18.4861 -69.9312]\n",
            " [ 19.4326 -99.1332]\n",
            " [  9.9281 -84.0907]\n",
            " [ 13.1939 -59.5432]\n",
            " [  4.611  -74.0827]]\n"
          ]
        }
      ]
    }
  ],
  "metadata": {
    "colab": {
      "name": "Welcome To Colab",
      "provenance": []
    },
    "kernelspec": {
      "display_name": "Python 3",
      "name": "python3"
    }
  },
  "nbformat": 4,
  "nbformat_minor": 0
}